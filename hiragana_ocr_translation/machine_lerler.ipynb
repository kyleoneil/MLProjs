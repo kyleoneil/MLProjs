{
  "cells": [
    {
      "cell_type": "code",
      "execution_count": 32,
      "metadata": {},
      "outputs": [],
      "source": [
        "# # perform this in colab first:\n",
        "# !git clone https://github.com/kyleoneil/MLProjs.git\n",
        "# import os\n",
        "# os.chdir('MLProjs')\n",
        "# print('we are currently at:', os.getcwd())"
      ]
    },
    {
      "cell_type": "code",
      "execution_count": 33,
      "metadata": {
        "colab": {
          "base_uri": "https://localhost:8080/",
          "height": 300
        },
        "id": "Vq7xC7OYKBg4",
        "outputId": "737da4c2-fb99-46df-923c-a25e348a9725"
      },
      "outputs": [
        {
          "name": "stderr",
          "output_type": "stream",
          "text": [
            "fatal: destination path 'hiragana-dataset' already exists and is not an empty directory.\n"
          ]
        }
      ],
      "source": [
        "!git clone https://github.com/inoueMashuu/hiragana-dataset.git\n",
        "import numpy as np\n",
        "import pandas as pd\n",
        "from sklearn.model_selection import train_test_split"
      ]
    },
    {
      "cell_type": "code",
      "execution_count": 34,
      "metadata": {
        "colab": {
          "base_uri": "https://localhost:8080/",
          "height": 441
        },
        "id": "lkvHRQ9mRhKP",
        "outputId": "ef74b8fc-8c21-459e-b24a-b805010a1580"
      },
      "outputs": [
        {
          "name": "stdout",
          "output_type": "stream",
          "text": [
            "Data successfully written to hiragana_dataset2.csv\n"
          ]
        },
        {
          "data": {
            "text/html": [
              "<div>\n",
              "<style scoped>\n",
              "    .dataframe tbody tr th:only-of-type {\n",
              "        vertical-align: middle;\n",
              "    }\n",
              "\n",
              "    .dataframe tbody tr th {\n",
              "        vertical-align: top;\n",
              "    }\n",
              "\n",
              "    .dataframe thead th {\n",
              "        text-align: right;\n",
              "    }\n",
              "</style>\n",
              "<table border=\"1\" class=\"dataframe\">\n",
              "  <thead>\n",
              "    <tr style=\"text-align: right;\">\n",
              "      <th></th>\n",
              "      <th>ImageName</th>\n",
              "      <th>Label</th>\n",
              "    </tr>\n",
              "  </thead>\n",
              "  <tbody>\n",
              "    <tr>\n",
              "      <th>0</th>\n",
              "      <td>hiragana-dataset/hiragana_images/kanaA0.jpg</td>\n",
              "      <td>A</td>\n",
              "    </tr>\n",
              "    <tr>\n",
              "      <th>1</th>\n",
              "      <td>hiragana-dataset/hiragana_images/kanaA1.jpg</td>\n",
              "      <td>A</td>\n",
              "    </tr>\n",
              "    <tr>\n",
              "      <th>2</th>\n",
              "      <td>hiragana-dataset/hiragana_images/kanaA2.jpg</td>\n",
              "      <td>A</td>\n",
              "    </tr>\n",
              "    <tr>\n",
              "      <th>3</th>\n",
              "      <td>hiragana-dataset/hiragana_images/kanaA3.jpg</td>\n",
              "      <td>A</td>\n",
              "    </tr>\n",
              "    <tr>\n",
              "      <th>4</th>\n",
              "      <td>hiragana-dataset/hiragana_images/kanaA4.jpg</td>\n",
              "      <td>A</td>\n",
              "    </tr>\n",
              "    <tr>\n",
              "      <th>...</th>\n",
              "      <td>...</td>\n",
              "      <td>...</td>\n",
              "    </tr>\n",
              "    <tr>\n",
              "      <th>95</th>\n",
              "      <td>hiragana-dataset/hiragana_images/kanaO15.jpg</td>\n",
              "      <td>O</td>\n",
              "    </tr>\n",
              "    <tr>\n",
              "      <th>96</th>\n",
              "      <td>hiragana-dataset/hiragana_images/kanaO16.jpg</td>\n",
              "      <td>O</td>\n",
              "    </tr>\n",
              "    <tr>\n",
              "      <th>97</th>\n",
              "      <td>hiragana-dataset/hiragana_images/kanaO17.jpg</td>\n",
              "      <td>O</td>\n",
              "    </tr>\n",
              "    <tr>\n",
              "      <th>98</th>\n",
              "      <td>hiragana-dataset/hiragana_images/kanaO18.jpg</td>\n",
              "      <td>O</td>\n",
              "    </tr>\n",
              "    <tr>\n",
              "      <th>99</th>\n",
              "      <td>hiragana-dataset/hiragana_images/kanaO19.jpg</td>\n",
              "      <td>O</td>\n",
              "    </tr>\n",
              "  </tbody>\n",
              "</table>\n",
              "<p>100 rows × 2 columns</p>\n",
              "</div>"
            ],
            "text/plain": [
              "                                       ImageName Label\n",
              "0    hiragana-dataset/hiragana_images/kanaA0.jpg     A\n",
              "1    hiragana-dataset/hiragana_images/kanaA1.jpg     A\n",
              "2    hiragana-dataset/hiragana_images/kanaA2.jpg     A\n",
              "3    hiragana-dataset/hiragana_images/kanaA3.jpg     A\n",
              "4    hiragana-dataset/hiragana_images/kanaA4.jpg     A\n",
              "..                                           ...   ...\n",
              "95  hiragana-dataset/hiragana_images/kanaO15.jpg     O\n",
              "96  hiragana-dataset/hiragana_images/kanaO16.jpg     O\n",
              "97  hiragana-dataset/hiragana_images/kanaO17.jpg     O\n",
              "98  hiragana-dataset/hiragana_images/kanaO18.jpg     O\n",
              "99  hiragana-dataset/hiragana_images/kanaO19.jpg     O\n",
              "\n",
              "[100 rows x 2 columns]"
            ]
          },
          "execution_count": 34,
          "metadata": {},
          "output_type": "execute_result"
        }
      ],
      "source": [
        "import csv\n",
        "\n",
        "# Define the kana characters and their corresponding labels\n",
        "kana_characters = [\n",
        "    'A', 'I', 'U', 'E', 'O', 'MA', 'MI', 'MU', 'ME', 'MO',\n",
        "    'KA', 'KI', 'KU', 'KE', 'KO', 'SA', 'SHI', 'SU', 'SE', 'SO',\n",
        "    'YA', 'YU', 'YO', 'WA', 'WO', 'TA', 'CHI', 'TSU', 'TE', 'TO',\n",
        "    'NA', 'NI', 'NU', 'NE', 'NO', 'HA', 'HI', 'FU', 'HE', 'HO',\n",
        "    'RA', 'RI', 'RU', 'RE', 'RO', 'N', 'DA', 'JI', 'BA', 'PI'\n",
        "]\n",
        "\n",
        "# Initialize variables\n",
        "image_data = []\n",
        "k = 0\n",
        "\n",
        "# Loop through each kana character and generate image names and labels\n",
        "for kana in kana_characters:\n",
        "    for i in range(20):\n",
        "        image_name = f'hiragana-dataset/hiragana_images/kana{kana}{i}.jpg'\n",
        "        label = kana\n",
        "        image_data.append([image_name, label])\n",
        "    k += 1\n",
        "\n",
        "# Write the data to a CSV file\n",
        "csv_file = 'hiragana_dataset2.csv'\n",
        "with open(csv_file, 'w', newline='') as csvfile:\n",
        "    csvwriter = csv.writer(csvfile)\n",
        "    csvwriter.writerow(['ImageName', 'Label'])  # Write header\n",
        "    csvwriter.writerows(image_data)\n",
        "\n",
        "print(f'Data successfully written to {csv_file}')\n",
        "\n",
        "cv = pd.read_csv(csv_file)\n",
        "cv.head(100)\n"
      ]
    },
    {
      "cell_type": "code",
      "execution_count": 35,
      "metadata": {},
      "outputs": [],
      "source": [
        "from PIL import Image\n",
        "img_width, img_height = 64, 64\n",
        "\n",
        "# Load images and labels\n",
        "images = []\n",
        "labels = []\n",
        "\n",
        "for index, row in cv.iterrows():\n",
        "    img = Image.open(row['ImageName']).convert('L')  # convert image to grayscale\n",
        "    img = img.resize((img_width, img_height))\n",
        "    img_array = np.array(img)\n",
        "    images.append(img_array)\n",
        "    labels.append(row['Label'])\n",
        "\n",
        "images = np.array(images)\n",
        "images = images.reshape(images.shape[0], img_width, img_height, 1)  # reshape for CNN input\n",
        "labels = np.array(labels)"
      ]
    },
    {
      "cell_type": "code",
      "execution_count": 36,
      "metadata": {
        "colab": {
          "base_uri": "https://localhost:8080/",
          "height": 1000
        },
        "id": "VTA0_RcpYcRg",
        "outputId": "c506e125-f7cf-49b3-81c0-420500b022fe"
      },
      "outputs": [
        {
          "name": "stdout",
          "output_type": "stream",
          "text": [
            "999\n"
          ]
        },
        {
          "data": {
            "image/png": "[encoded data removed]",
            "text/plain": [
              "<Figure size 1500x300 with 5 Axes>"
            ]
          },
          "metadata": {},
          "output_type": "display_data"
        }
      ],
      "source": [
        "import matplotlib.pyplot as plt\n",
        "import random\n",
        "\n",
        "dataset_len = len(labels) - 1\n",
        "print(dataset_len)\n",
        "fig, axs = plt.subplots(1,5, figsize=(15,3))\n",
        "axs = axs.flatten()\n",
        "\n",
        "for i in range(5):\n",
        "    ran = random.randint(0, dataset_len)\n",
        "    ax = axs[i]\n",
        "    ax.imshow(images[ran].reshape(img_width, img_height), cmap='gray')\n",
        "    ax.set_title(\"Label: \" + labels[ran] + f' #{ran}')\n",
        "    ax.axis('off')"
      ]
    },
    {
      "cell_type": "code",
      "execution_count": 37,
      "metadata": {},
      "outputs": [],
      "source": [
        "images_flat = images.reshape(images.shape[0], -1)  # shape will be (1000, 64*64)\n",
        "\n",
        "# Create a DataFrame\n",
        "df_images_labels = pd.DataFrame({\n",
        "    'images': [img.tolist() for img in images_flat],  # convert each image to list\n",
        "    'labels': labels\n",
        "})"
      ]
    },
    {
      "cell_type": "code",
      "execution_count": 39,
      "metadata": {},
      "outputs": [],
      "source": [
        "X = df_images_labels.drop('labels', axis=1)\n",
        "y = df_images_labels['images']\n",
        "X_train, X_test, y_train, y_test = train_test_split(X, y, test_size=0.2, random_state=42)"
      ]
    }
  ],
  "metadata": {
    "colab": {
      "provenance": []
    },
    "kernelspec": {
      "display_name": "Python 3",
      "name": "python3"
    },
    "language_info": {
      "codemirror_mode": {
        "name": "ipython",
        "version": 3
      },
      "file_extension": ".py",
      "mimetype": "text/x-python",
      "name": "python",
      "nbconvert_exporter": "python",
      "pygments_lexer": "ipython3",
      "version": "3.9.4"
    }
  },
  "nbformat": 4,
  "nbformat_minor": 0
}
